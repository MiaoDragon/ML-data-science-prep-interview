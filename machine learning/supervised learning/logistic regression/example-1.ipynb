{
 "cells": [
  {
   "cell_type": "markdown",
   "id": "0300769d",
   "metadata": {},
   "source": [
    "This notebook implements simple logistic regression model for learning from data."
   ]
  },
  {
   "cell_type": "code",
   "execution_count": 2,
   "id": "f6666662",
   "metadata": {},
   "outputs": [],
   "source": [
    "import numpy as np\n",
    "import pandas as pd"
   ]
  },
  {
   "cell_type": "markdown",
   "id": "656fd74b",
   "metadata": {},
   "source": [
    "Logistic regression:\n",
    "input: x, output: y\n",
    "\n",
    "Here assume linear model:\n",
    "$f(x) = w^Tx+b = w^T[x,1] = w^T\\tilde{x}$, where $\\tilde{x}$ contains one \"bias\" term that remains to be \"1\".\n",
    "\n",
    "fitting data: $D = \\{(x_i, y_i)\\}$, where $y_i\\in\\{0,1\\}$.\n",
    "\n",
    "simple 2D example: \n",
    "\n",
    "$w$ is of 2 dimension to plot more easily. We define the problem of finding the decision boundary (or classification) of the two classes in the data. The problem is defined by finding a model to fit the data for classification.\n",
    "\n",
    "Tasks:\n",
    "- draw out the 1D plots for the data points. (TODO: enable user to select points on the plot)\n",
    "- Define the model. Visualize the logistic values. Visualize the prediction. Visualize the decision boundary.\n",
    "- Optimize the model. Visualize the effects as the model is optimized.\n",
    "  - implement the cost computation\n",
    "  - implement the gradient computation\n",
    "- visualize the cost landscape. The cost change.\n",
    "\n",
    "\"\n",
    "**If have time:**\n",
    "obtaining data from: \n",
    "\n",
    "https://www.kaggle.com/code/prashant111/logistic-regression-classifier-tutorial/input\n",
    "https://www.kaggle.com/datasets/trisha2094/weatheraus\n"
   ]
  },
  {
   "cell_type": "code",
   "execution_count": 5,
   "id": "2781b8d9",
   "metadata": {},
   "outputs": [],
   "source": [
    "# load the dataset\n",
    "df = pd.read_csv(\"weatherAUS.csv\")"
   ]
  },
  {
   "cell_type": "code",
   "execution_count": null,
   "id": "f7fbdccb",
   "metadata": {},
   "outputs": [],
   "source": []
  }
 ],
 "metadata": {
  "kernelspec": {
   "display_name": "Python 3",
   "language": "python",
   "name": "python3"
  },
  "language_info": {
   "codemirror_mode": {
    "name": "ipython",
    "version": 3
   },
   "file_extension": ".py",
   "mimetype": "text/x-python",
   "name": "python",
   "nbconvert_exporter": "python",
   "pygments_lexer": "ipython3",
   "version": "3.12.1"
  }
 },
 "nbformat": 4,
 "nbformat_minor": 5
}
